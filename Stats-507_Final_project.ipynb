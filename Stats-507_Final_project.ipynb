{
 "cells": [
  {
   "cell_type": "code",
   "execution_count": null,
   "id": "85923287-2a2d-40b7-81cb-155fa1354bde",
   "metadata": {},
   "outputs": [],
   "source": [
    "import os\n",
    "os.environ['TORCH_DYNAMO_DISABLE'] = '1'\n",
    "\n",
    "import torch\n",
    "import torch.nn as nn\n",
    "import torch.optim as optim\n",
    "from torch.utils.data import DataLoader, TensorDataset\n",
    "import pandas as pd\n",
    "import numpy as np\n",
    "import sklearn\n",
    "from sklearn.model_selection import train_test_split\n",
    "from sklearn.preprocessing import StandardScaler\n",
    "from sklearn.metrics import accuracy_score\n",
    "from sklearn.linear_model import Perceptron\n",
    "from sklearn.model_selection import KFold,cross_validate\n",
    "from sklearn.metrics import confusion_matrix,accuracy_score,roc_curve,classification_report\n",
    "from scipy import stats\n",
    "import statsmodels.api as sm\n",
    "from types import MethodDescriptorType\n",
    "from concurrent.futures import ThreadPoolExecutor\n",
    "from tqdm import trange\n",
    "import optuna\n",
    "\n",
    "\n",
    "# Closure Notification\n",
    "import warnings\n",
    "warnings.filterwarnings(\"ignore\")\n",
    "import logging\n",
    "logging.getLogger().setLevel(logging.ERROR)"
   ]
  },
  {
   "cell_type": "code",
   "execution_count": null,
   "id": "fba90219-4e2a-4220-b194-babc897e2c2b",
   "metadata": {},
   "outputs": [],
   "source": [
    "### Import data \n",
    "\n",
    "# load data\n",
    "data = pd.read_pickle('autodl-tmp/ml_data_new.pkl')\n",
    "x = data.loc[:, :'alpha101']\n",
    "y = data.loc[:, 'target']\n",
    "\n",
    "# data cleaning\n",
    "x = x.fillna(method='ffill').fillna(method='bfill')\n",
    "x = x.dropna(axis=1, how='all')\n",
    "zero_std_cols = x.std()[x.std() == 0].index.tolist()\n",
    "x.drop(columns=zero_std_cols, inplace=True)\n",
    "\n",
    "window_size = 5\n",
    "x_list = []\n",
    "y_list = []\n",
    "\n",
    "# sample constructor\n",
    "def process_stock(stock_id):\n",
    "    local_x, local_y = [], []\n",
    "    x_stock = x.xs(stock_id, level=1)\n",
    "    y_stock = y.xs(stock_id, level=1)\n",
    "\n",
    "    if len(x_stock) <= window_size:\n",
    "        return local_x, local_y\n",
    "\n",
    "    x_np = x_stock.to_numpy()  # shape: [days, features]\n",
    "    y_np = y_stock.reindex(x_stock.index).to_numpy()  \n",
    "\n",
    "    for i in range(len(x_np) - window_size):\n",
    "        x_window = x_np[i:i+window_size]\n",
    "        y_target = y_np[i+window_size]\n",
    "\n",
    "        if np.isnan(x_window).sum() > 0 or np.isnan(y_target):\n",
    "            continue\n",
    "\n",
    "        x_sample = x_window.T  # [features, time]\n",
    "        local_x.append(x_sample)\n",
    "        local_y.append(y_target)\n",
    "\n",
    "    return local_x, local_y\n",
    "\n",
    "# Per stock processing (multi-threaded)\n",
    "with ThreadPoolExecutor(max_workers=8) as executor:\n",
    "    results = list(executor.map(process_stock, x.index.get_level_values(1).unique()))\n",
    "\n",
    "for local_x, local_y in results:\n",
    "    x_list.extend(local_x)\n",
    "    y_list.extend(local_y)\n",
    "\n",
    "# Conversion to tensor\n",
    "data_x = torch.tensor(np.array(x_list), dtype=torch.float32)  # [N, C, T]\n",
    "data_y = torch.tensor(np.array(y_list), dtype=torch.float32).unsqueeze(-1)  # [N, 1]\n",
    "\n",
    "# Divide the training/test set\n",
    "x_train, x_test, y_train, y_test = train_test_split(data_x, data_y, test_size=0.2, random_state=42)\n",
    "\n",
    "# Saving the cache file\n",
    "torch.save(x_train, \"x_train.pt\")\n",
    "torch.save(x_test, \"x_test.pt\")\n",
    "torch.save(y_train, \"y_train.pt\")\n",
    "torch.save(y_test, \"y_test.pt\")\n"
   ]
  },
  {
   "cell_type": "code",
   "execution_count": null,
   "id": "e699ef56-3f99-4c62-8ec9-9a0eec8e8145",
   "metadata": {},
   "outputs": [],
   "source": [
    "###Setting hyperparameters\n",
    "# hyperparameters\n",
    "input_size = x_train.shape[1]   # Number of features C\n",
    "seq_len = x_train.shape[2]      # Time steps T\n",
    "hidden_size = 64\n",
    "batch_size = 128\n",
    "epochs = 1000\n",
    "lr = 0.001\n",
    "# Adjust the inputs to [N, T, C] to fit the RNN requirements.\n",
    "x_train_rnn = x_train.permute(0, 2, 1)\n",
    "x_test_rnn = x_test.permute(0, 2, 1)"
   ]
  },
  {
   "cell_type": "code",
   "execution_count": null,
   "id": "09accdff-1641-4f28-83a3-cd6ff689e3bb",
   "metadata": {},
   "outputs": [
    {
     "name": "stdout",
     "output_type": "stream",
     "text": [
      "\n",
      " Utilization equipment： cuda\n"
     ]
    },
    {
     "name": "stderr",
     "output_type": "stream",
     "text": [
      "  0%|          | 1/1000 [00:16<4:42:14, 16.95s/it]"
     ]
    },
    {
     "name": "stdout",
     "output_type": "stream",
     "text": [
      "Epoch 0, Loss: 0.6835\n"
     ]
    },
    {
     "name": "stderr",
     "output_type": "stream",
     "text": [
      "  1%|          | 11/1000 [03:04<4:39:04, 16.93s/it]"
     ]
    },
    {
     "name": "stdout",
     "output_type": "stream",
     "text": [
      "Epoch 10, Loss: 0.5117\n"
     ]
    },
    {
     "name": "stderr",
     "output_type": "stream",
     "text": [
      "  2%|▏         | 21/1000 [05:51<4:32:36, 16.71s/it]"
     ]
    },
    {
     "name": "stdout",
     "output_type": "stream",
     "text": [
      "Epoch 20, Loss: 0.4090\n"
     ]
    },
    {
     "name": "stderr",
     "output_type": "stream",
     "text": [
      "  3%|▎         | 31/1000 [08:40<4:36:24, 17.12s/it]"
     ]
    },
    {
     "name": "stdout",
     "output_type": "stream",
     "text": [
      "Epoch 30, Loss: 0.3431\n"
     ]
    },
    {
     "name": "stderr",
     "output_type": "stream",
     "text": [
      "  4%|▍         | 41/1000 [11:29<4:30:16, 16.91s/it]"
     ]
    },
    {
     "name": "stdout",
     "output_type": "stream",
     "text": [
      "Epoch 40, Loss: 0.2989\n"
     ]
    },
    {
     "name": "stderr",
     "output_type": "stream",
     "text": [
      "  5%|▌         | 51/1000 [14:16<4:26:07, 16.83s/it]"
     ]
    },
    {
     "name": "stdout",
     "output_type": "stream",
     "text": [
      "Epoch 50, Loss: 0.2685\n"
     ]
    },
    {
     "name": "stderr",
     "output_type": "stream",
     "text": [
      "  6%|▌         | 61/1000 [17:05<4:39:21, 17.85s/it]"
     ]
    },
    {
     "name": "stdout",
     "output_type": "stream",
     "text": [
      "Epoch 60, Loss: 0.2463\n"
     ]
    },
    {
     "name": "stderr",
     "output_type": "stream",
     "text": [
      "  7%|▋         | 71/1000 [19:58<4:21:18, 16.88s/it]"
     ]
    },
    {
     "name": "stdout",
     "output_type": "stream",
     "text": [
      "Epoch 70, Loss: 0.2303\n"
     ]
    },
    {
     "name": "stderr",
     "output_type": "stream",
     "text": [
      "  8%|▊         | 81/1000 [22:46<4:14:53, 16.64s/it]"
     ]
    },
    {
     "name": "stdout",
     "output_type": "stream",
     "text": [
      "Epoch 80, Loss: 0.2184\n"
     ]
    },
    {
     "name": "stderr",
     "output_type": "stream",
     "text": [
      "  9%|▉         | 91/1000 [25:34<4:13:45, 16.75s/it]"
     ]
    },
    {
     "name": "stdout",
     "output_type": "stream",
     "text": [
      "Epoch 90, Loss: 0.2083\n"
     ]
    },
    {
     "name": "stderr",
     "output_type": "stream",
     "text": [
      " 10%|█         | 101/1000 [28:20<4:08:18, 16.57s/it]"
     ]
    },
    {
     "name": "stdout",
     "output_type": "stream",
     "text": [
      "Epoch 100, Loss: 0.2014\n"
     ]
    },
    {
     "name": "stderr",
     "output_type": "stream",
     "text": [
      " 11%|█         | 111/1000 [31:07<4:05:56, 16.60s/it]"
     ]
    },
    {
     "name": "stdout",
     "output_type": "stream",
     "text": [
      "Epoch 110, Loss: 0.1950\n"
     ]
    },
    {
     "name": "stderr",
     "output_type": "stream",
     "text": [
      " 12%|█▏        | 121/1000 [33:52<4:01:56, 16.51s/it]"
     ]
    },
    {
     "name": "stdout",
     "output_type": "stream",
     "text": [
      "Epoch 120, Loss: 0.1901\n"
     ]
    },
    {
     "name": "stderr",
     "output_type": "stream",
     "text": [
      " 13%|█▎        | 131/1000 [36:40<4:00:14, 16.59s/it]"
     ]
    },
    {
     "name": "stdout",
     "output_type": "stream",
     "text": [
      "Epoch 130, Loss: 0.1850\n"
     ]
    },
    {
     "name": "stderr",
     "output_type": "stream",
     "text": [
      " 14%|█▍        | 141/1000 [39:28<4:00:18, 16.79s/it]"
     ]
    },
    {
     "name": "stdout",
     "output_type": "stream",
     "text": [
      "Epoch 140, Loss: 0.1804\n"
     ]
    },
    {
     "name": "stderr",
     "output_type": "stream",
     "text": [
      " 15%|█▌        | 151/1000 [42:16<3:57:27, 16.78s/it]"
     ]
    },
    {
     "name": "stdout",
     "output_type": "stream",
     "text": [
      "Epoch 150, Loss: 0.1787\n"
     ]
    },
    {
     "name": "stderr",
     "output_type": "stream",
     "text": [
      " 16%|█▌        | 161/1000 [45:07<4:00:57, 17.23s/it]"
     ]
    },
    {
     "name": "stdout",
     "output_type": "stream",
     "text": [
      "Epoch 160, Loss: 0.1753\n"
     ]
    },
    {
     "name": "stderr",
     "output_type": "stream",
     "text": [
      " 17%|█▋        | 171/1000 [47:55<3:52:01, 16.79s/it]"
     ]
    },
    {
     "name": "stdout",
     "output_type": "stream",
     "text": [
      "Epoch 170, Loss: 0.1717\n"
     ]
    },
    {
     "name": "stderr",
     "output_type": "stream",
     "text": [
      " 18%|█▊        | 181/1000 [50:39<3:41:15, 16.21s/it]"
     ]
    },
    {
     "name": "stdout",
     "output_type": "stream",
     "text": [
      "Epoch 180, Loss: 0.1697\n"
     ]
    },
    {
     "name": "stderr",
     "output_type": "stream",
     "text": [
      " 19%|█▉        | 191/1000 [53:32<3:50:22, 17.09s/it]"
     ]
    },
    {
     "name": "stdout",
     "output_type": "stream",
     "text": [
      "Epoch 190, Loss: 0.1676\n"
     ]
    },
    {
     "name": "stderr",
     "output_type": "stream",
     "text": [
      " 20%|██        | 201/1000 [56:19<3:44:28, 16.86s/it]"
     ]
    },
    {
     "name": "stdout",
     "output_type": "stream",
     "text": [
      "Epoch 200, Loss: 0.1656\n"
     ]
    },
    {
     "name": "stderr",
     "output_type": "stream",
     "text": [
      " 21%|██        | 211/1000 [59:11<3:40:46, 16.79s/it]"
     ]
    },
    {
     "name": "stdout",
     "output_type": "stream",
     "text": [
      "Epoch 210, Loss: 0.1639\n"
     ]
    },
    {
     "name": "stderr",
     "output_type": "stream",
     "text": [
      " 22%|██▏       | 221/1000 [1:02:05<3:44:13, 17.27s/it]"
     ]
    },
    {
     "name": "stdout",
     "output_type": "stream",
     "text": [
      "Epoch 220, Loss: 0.1619\n"
     ]
    },
    {
     "name": "stderr",
     "output_type": "stream",
     "text": [
      " 23%|██▎       | 231/1000 [1:04:57<3:44:55, 17.55s/it]"
     ]
    },
    {
     "name": "stdout",
     "output_type": "stream",
     "text": [
      "Epoch 230, Loss: 0.1598\n"
     ]
    },
    {
     "name": "stderr",
     "output_type": "stream",
     "text": [
      " 24%|██▍       | 241/1000 [1:07:55<3:53:46, 18.48s/it]"
     ]
    },
    {
     "name": "stdout",
     "output_type": "stream",
     "text": [
      "Epoch 240, Loss: 0.1592\n"
     ]
    },
    {
     "name": "stderr",
     "output_type": "stream",
     "text": [
      " 25%|██▌       | 251/1000 [1:10:56<3:38:36, 17.51s/it]"
     ]
    },
    {
     "name": "stdout",
     "output_type": "stream",
     "text": [
      "Epoch 250, Loss: 0.1574\n"
     ]
    },
    {
     "name": "stderr",
     "output_type": "stream",
     "text": [
      " 26%|██▌       | 261/1000 [1:13:45<3:30:16, 17.07s/it]"
     ]
    },
    {
     "name": "stdout",
     "output_type": "stream",
     "text": [
      "Epoch 260, Loss: 0.1566\n"
     ]
    },
    {
     "name": "stderr",
     "output_type": "stream",
     "text": [
      " 27%|██▋       | 271/1000 [1:16:40<3:30:04, 17.29s/it]"
     ]
    },
    {
     "name": "stdout",
     "output_type": "stream",
     "text": [
      "Epoch 270, Loss: 0.1564\n"
     ]
    },
    {
     "name": "stderr",
     "output_type": "stream",
     "text": [
      " 28%|██▊       | 281/1000 [1:19:32<3:23:47, 17.01s/it]"
     ]
    },
    {
     "name": "stdout",
     "output_type": "stream",
     "text": [
      "Epoch 280, Loss: 0.1556\n"
     ]
    },
    {
     "name": "stderr",
     "output_type": "stream",
     "text": [
      " 29%|██▉       | 291/1000 [1:22:26<3:28:36, 17.65s/it]"
     ]
    },
    {
     "name": "stdout",
     "output_type": "stream",
     "text": [
      "Epoch 290, Loss: 0.1543\n"
     ]
    },
    {
     "name": "stderr",
     "output_type": "stream",
     "text": [
      " 30%|███       | 301/1000 [1:25:17<3:17:48, 16.98s/it]"
     ]
    },
    {
     "name": "stdout",
     "output_type": "stream",
     "text": [
      "Epoch 300, Loss: 0.1532\n"
     ]
    },
    {
     "name": "stderr",
     "output_type": "stream",
     "text": [
      " 31%|███       | 311/1000 [1:28:04<3:11:41, 16.69s/it]"
     ]
    },
    {
     "name": "stdout",
     "output_type": "stream",
     "text": [
      "Epoch 310, Loss: 0.1517\n"
     ]
    },
    {
     "name": "stderr",
     "output_type": "stream",
     "text": [
      " 32%|███▏      | 321/1000 [1:30:49<3:05:21, 16.38s/it]"
     ]
    },
    {
     "name": "stdout",
     "output_type": "stream",
     "text": [
      "Epoch 320, Loss: 0.1524\n"
     ]
    },
    {
     "name": "stderr",
     "output_type": "stream",
     "text": [
      " 33%|███▎      | 331/1000 [1:33:41<3:11:41, 17.19s/it]"
     ]
    },
    {
     "name": "stdout",
     "output_type": "stream",
     "text": [
      "Epoch 330, Loss: 0.1501\n"
     ]
    },
    {
     "name": "stderr",
     "output_type": "stream",
     "text": [
      " 34%|███▍      | 341/1000 [1:36:31<3:03:57, 16.75s/it]"
     ]
    },
    {
     "name": "stdout",
     "output_type": "stream",
     "text": [
      "Epoch 340, Loss: 0.1493\n"
     ]
    },
    {
     "name": "stderr",
     "output_type": "stream",
     "text": [
      " 35%|███▌      | 351/1000 [1:39:23<3:04:29, 17.06s/it]"
     ]
    },
    {
     "name": "stdout",
     "output_type": "stream",
     "text": [
      "Epoch 350, Loss: 0.1484\n"
     ]
    },
    {
     "name": "stderr",
     "output_type": "stream",
     "text": [
      " 36%|███▌      | 361/1000 [1:42:12<2:58:37, 16.77s/it]"
     ]
    },
    {
     "name": "stdout",
     "output_type": "stream",
     "text": [
      "Epoch 360, Loss: 0.1494\n"
     ]
    },
    {
     "name": "stderr",
     "output_type": "stream",
     "text": [
      " 37%|███▋      | 371/1000 [1:45:00<2:55:18, 16.72s/it]"
     ]
    },
    {
     "name": "stdout",
     "output_type": "stream",
     "text": [
      "Epoch 370, Loss: 0.1472\n"
     ]
    },
    {
     "name": "stderr",
     "output_type": "stream",
     "text": [
      " 38%|███▊      | 381/1000 [1:47:44<2:49:51, 16.46s/it]"
     ]
    },
    {
     "name": "stdout",
     "output_type": "stream",
     "text": [
      "Epoch 380, Loss: 0.1487\n"
     ]
    },
    {
     "name": "stderr",
     "output_type": "stream",
     "text": [
      " 39%|███▉      | 391/1000 [1:50:31<2:48:43, 16.62s/it]"
     ]
    },
    {
     "name": "stdout",
     "output_type": "stream",
     "text": [
      "Epoch 390, Loss: 0.1480\n"
     ]
    },
    {
     "name": "stderr",
     "output_type": "stream",
     "text": [
      " 40%|████      | 401/1000 [1:53:13<2:41:00, 16.13s/it]"
     ]
    },
    {
     "name": "stdout",
     "output_type": "stream",
     "text": [
      "Epoch 400, Loss: 0.1464\n"
     ]
    },
    {
     "name": "stderr",
     "output_type": "stream",
     "text": [
      " 41%|████      | 411/1000 [1:55:58<2:41:10, 16.42s/it]"
     ]
    },
    {
     "name": "stdout",
     "output_type": "stream",
     "text": [
      "Epoch 410, Loss: 0.1452\n"
     ]
    },
    {
     "name": "stderr",
     "output_type": "stream",
     "text": [
      " 42%|████▏     | 421/1000 [1:58:42<2:39:22, 16.52s/it]"
     ]
    },
    {
     "name": "stdout",
     "output_type": "stream",
     "text": [
      "Epoch 420, Loss: 0.1447\n"
     ]
    },
    {
     "name": "stderr",
     "output_type": "stream",
     "text": [
      " 43%|████▎     | 431/1000 [2:01:25<2:34:13, 16.26s/it]"
     ]
    },
    {
     "name": "stdout",
     "output_type": "stream",
     "text": [
      "Epoch 430, Loss: 0.1448\n"
     ]
    },
    {
     "name": "stderr",
     "output_type": "stream",
     "text": [
      " 44%|████▍     | 441/1000 [2:04:06<2:31:36, 16.27s/it]"
     ]
    },
    {
     "name": "stdout",
     "output_type": "stream",
     "text": [
      "Epoch 440, Loss: 0.1460\n"
     ]
    },
    {
     "name": "stderr",
     "output_type": "stream",
     "text": [
      " 45%|████▌     | 451/1000 [2:06:51<2:30:26, 16.44s/it]"
     ]
    },
    {
     "name": "stdout",
     "output_type": "stream",
     "text": [
      "Epoch 450, Loss: 0.1445\n"
     ]
    },
    {
     "name": "stderr",
     "output_type": "stream",
     "text": [
      " 46%|████▌     | 461/1000 [2:09:41<2:30:50, 16.79s/it]"
     ]
    },
    {
     "name": "stdout",
     "output_type": "stream",
     "text": [
      "Epoch 460, Loss: 0.1429\n"
     ]
    },
    {
     "name": "stderr",
     "output_type": "stream",
     "text": [
      " 47%|████▋     | 471/1000 [2:12:27<2:26:44, 16.64s/it]"
     ]
    },
    {
     "name": "stdout",
     "output_type": "stream",
     "text": [
      "Epoch 470, Loss: 0.1431\n"
     ]
    },
    {
     "name": "stderr",
     "output_type": "stream",
     "text": [
      " 48%|████▊     | 481/1000 [2:15:13<2:24:05, 16.66s/it]"
     ]
    },
    {
     "name": "stdout",
     "output_type": "stream",
     "text": [
      "Epoch 480, Loss: 0.1432\n"
     ]
    },
    {
     "name": "stderr",
     "output_type": "stream",
     "text": [
      " 49%|████▉     | 491/1000 [2:17:58<2:19:36, 16.46s/it]"
     ]
    },
    {
     "name": "stdout",
     "output_type": "stream",
     "text": [
      "Epoch 490, Loss: 0.1439\n"
     ]
    },
    {
     "name": "stderr",
     "output_type": "stream",
     "text": [
      " 50%|█████     | 501/1000 [2:20:43<2:17:15, 16.50s/it]"
     ]
    },
    {
     "name": "stdout",
     "output_type": "stream",
     "text": [
      "Epoch 500, Loss: 0.1439\n"
     ]
    },
    {
     "name": "stderr",
     "output_type": "stream",
     "text": [
      " 51%|█████     | 511/1000 [2:23:28<2:14:58, 16.56s/it]"
     ]
    },
    {
     "name": "stdout",
     "output_type": "stream",
     "text": [
      "Epoch 510, Loss: 0.1406\n"
     ]
    },
    {
     "name": "stderr",
     "output_type": "stream",
     "text": [
      " 52%|█████▏    | 521/1000 [2:26:12<2:10:41, 16.37s/it]"
     ]
    },
    {
     "name": "stdout",
     "output_type": "stream",
     "text": [
      "Epoch 520, Loss: 0.1422\n"
     ]
    },
    {
     "name": "stderr",
     "output_type": "stream",
     "text": [
      " 53%|█████▎    | 531/1000 [2:28:54<2:07:25, 16.30s/it]"
     ]
    },
    {
     "name": "stdout",
     "output_type": "stream",
     "text": [
      "Epoch 530, Loss: 0.1396\n"
     ]
    },
    {
     "name": "stderr",
     "output_type": "stream",
     "text": [
      " 54%|█████▍    | 541/1000 [2:31:39<2:04:59, 16.34s/it]"
     ]
    },
    {
     "name": "stdout",
     "output_type": "stream",
     "text": [
      "Epoch 540, Loss: 0.1412\n"
     ]
    },
    {
     "name": "stderr",
     "output_type": "stream",
     "text": [
      " 55%|█████▌    | 551/1000 [2:34:23<2:02:21, 16.35s/it]"
     ]
    },
    {
     "name": "stdout",
     "output_type": "stream",
     "text": [
      "Epoch 550, Loss: 0.1416\n"
     ]
    },
    {
     "name": "stderr",
     "output_type": "stream",
     "text": [
      " 56%|█████▌    | 561/1000 [2:37:06<2:00:12, 16.43s/it]"
     ]
    },
    {
     "name": "stdout",
     "output_type": "stream",
     "text": [
      "Epoch 560, Loss: 0.1414\n"
     ]
    },
    {
     "name": "stderr",
     "output_type": "stream",
     "text": [
      " 57%|█████▋    | 571/1000 [2:39:49<1:54:40, 16.04s/it]"
     ]
    },
    {
     "name": "stdout",
     "output_type": "stream",
     "text": [
      "Epoch 570, Loss: 0.1411\n"
     ]
    },
    {
     "name": "stderr",
     "output_type": "stream",
     "text": [
      " 58%|█████▊    | 581/1000 [2:42:32<1:54:59, 16.47s/it]"
     ]
    },
    {
     "name": "stdout",
     "output_type": "stream",
     "text": [
      "Epoch 580, Loss: 0.1381\n"
     ]
    },
    {
     "name": "stderr",
     "output_type": "stream",
     "text": [
      " 59%|█████▉    | 591/1000 [2:45:17<1:52:56, 16.57s/it]"
     ]
    },
    {
     "name": "stdout",
     "output_type": "stream",
     "text": [
      "Epoch 590, Loss: 0.1385\n"
     ]
    },
    {
     "name": "stderr",
     "output_type": "stream",
     "text": [
      " 60%|██████    | 601/1000 [2:48:00<1:48:41, 16.34s/it]"
     ]
    },
    {
     "name": "stdout",
     "output_type": "stream",
     "text": [
      "Epoch 600, Loss: 0.1390\n"
     ]
    },
    {
     "name": "stderr",
     "output_type": "stream",
     "text": [
      " 61%|██████    | 611/1000 [2:50:45<1:46:33, 16.44s/it]"
     ]
    },
    {
     "name": "stdout",
     "output_type": "stream",
     "text": [
      "Epoch 610, Loss: 0.1404\n"
     ]
    },
    {
     "name": "stderr",
     "output_type": "stream",
     "text": [
      " 62%|██████▏   | 621/1000 [2:53:27<1:42:29, 16.23s/it]"
     ]
    },
    {
     "name": "stdout",
     "output_type": "stream",
     "text": [
      "Epoch 620, Loss: 0.1371\n"
     ]
    },
    {
     "name": "stderr",
     "output_type": "stream",
     "text": [
      " 63%|██████▎   | 631/1000 [2:56:12<1:42:26, 16.66s/it]"
     ]
    },
    {
     "name": "stdout",
     "output_type": "stream",
     "text": [
      "Epoch 630, Loss: 0.1389\n"
     ]
    },
    {
     "name": "stderr",
     "output_type": "stream",
     "text": [
      " 64%|██████▍   | 641/1000 [2:58:57<1:39:21, 16.61s/it]"
     ]
    },
    {
     "name": "stdout",
     "output_type": "stream",
     "text": [
      "Epoch 640, Loss: 0.1372\n"
     ]
    },
    {
     "name": "stderr",
     "output_type": "stream",
     "text": [
      " 65%|██████▌   | 651/1000 [3:01:41<1:35:21, 16.39s/it]"
     ]
    },
    {
     "name": "stdout",
     "output_type": "stream",
     "text": [
      "Epoch 650, Loss: 0.1366\n"
     ]
    },
    {
     "name": "stderr",
     "output_type": "stream",
     "text": [
      " 66%|██████▌   | 661/1000 [3:04:26<1:33:29, 16.55s/it]"
     ]
    },
    {
     "name": "stdout",
     "output_type": "stream",
     "text": [
      "Epoch 660, Loss: 0.1368\n"
     ]
    },
    {
     "name": "stderr",
     "output_type": "stream",
     "text": [
      " 67%|██████▋   | 671/1000 [3:07:11<1:30:08, 16.44s/it]"
     ]
    },
    {
     "name": "stdout",
     "output_type": "stream",
     "text": [
      "Epoch 670, Loss: 0.1361\n"
     ]
    },
    {
     "name": "stderr",
     "output_type": "stream",
     "text": [
      " 68%|██████▊   | 681/1000 [3:09:55<1:27:04, 16.38s/it]"
     ]
    },
    {
     "name": "stdout",
     "output_type": "stream",
     "text": [
      "Epoch 680, Loss: 0.1367\n"
     ]
    },
    {
     "name": "stderr",
     "output_type": "stream",
     "text": [
      " 69%|██████▉   | 691/1000 [3:12:40<1:25:25, 16.59s/it]"
     ]
    },
    {
     "name": "stdout",
     "output_type": "stream",
     "text": [
      "Epoch 690, Loss: 0.1371\n"
     ]
    },
    {
     "name": "stderr",
     "output_type": "stream",
     "text": [
      " 70%|███████   | 701/1000 [3:15:25<1:22:34, 16.57s/it]"
     ]
    },
    {
     "name": "stdout",
     "output_type": "stream",
     "text": [
      "Epoch 700, Loss: 0.1378\n"
     ]
    },
    {
     "name": "stderr",
     "output_type": "stream",
     "text": [
      " 71%|███████   | 711/1000 [3:18:10<1:19:20, 16.47s/it]"
     ]
    },
    {
     "name": "stdout",
     "output_type": "stream",
     "text": [
      "Epoch 710, Loss: 0.1356\n"
     ]
    },
    {
     "name": "stderr",
     "output_type": "stream",
     "text": [
      " 72%|███████▏  | 721/1000 [3:20:55<1:16:46, 16.51s/it]"
     ]
    },
    {
     "name": "stdout",
     "output_type": "stream",
     "text": [
      "Epoch 720, Loss: 0.1363\n"
     ]
    },
    {
     "name": "stderr",
     "output_type": "stream",
     "text": [
      " 73%|███████▎  | 731/1000 [3:23:37<1:12:36, 16.20s/it]"
     ]
    },
    {
     "name": "stdout",
     "output_type": "stream",
     "text": [
      "Epoch 730, Loss: 0.1372\n"
     ]
    },
    {
     "name": "stderr",
     "output_type": "stream",
     "text": [
      " 74%|███████▍  | 741/1000 [3:26:17<1:10:00, 16.22s/it]"
     ]
    },
    {
     "name": "stdout",
     "output_type": "stream",
     "text": [
      "Epoch 740, Loss: 0.1366\n"
     ]
    },
    {
     "name": "stderr",
     "output_type": "stream",
     "text": [
      " 75%|███████▌  | 751/1000 [3:29:00<1:08:07, 16.41s/it]"
     ]
    },
    {
     "name": "stdout",
     "output_type": "stream",
     "text": [
      "Epoch 750, Loss: 0.1356\n"
     ]
    },
    {
     "name": "stderr",
     "output_type": "stream",
     "text": [
      " 76%|███████▌  | 761/1000 [3:31:42<1:02:58, 15.81s/it]"
     ]
    },
    {
     "name": "stdout",
     "output_type": "stream",
     "text": [
      "Epoch 760, Loss: 0.1355\n"
     ]
    },
    {
     "name": "stderr",
     "output_type": "stream",
     "text": [
      " 77%|███████▋  | 771/1000 [3:34:27<1:02:52, 16.47s/it]"
     ]
    },
    {
     "name": "stdout",
     "output_type": "stream",
     "text": [
      "Epoch 770, Loss: 0.1319\n"
     ]
    },
    {
     "name": "stderr",
     "output_type": "stream",
     "text": [
      " 78%|███████▊  | 781/1000 [3:37:07<58:45, 16.10s/it]  "
     ]
    },
    {
     "name": "stdout",
     "output_type": "stream",
     "text": [
      "Epoch 780, Loss: 0.1361\n"
     ]
    },
    {
     "name": "stderr",
     "output_type": "stream",
     "text": [
      " 79%|███████▉  | 791/1000 [3:39:51<57:06, 16.40s/it]"
     ]
    },
    {
     "name": "stdout",
     "output_type": "stream",
     "text": [
      "Epoch 790, Loss: 0.1357\n"
     ]
    },
    {
     "name": "stderr",
     "output_type": "stream",
     "text": [
      " 80%|████████  | 801/1000 [3:42:34<54:11, 16.34s/it]"
     ]
    },
    {
     "name": "stdout",
     "output_type": "stream",
     "text": [
      "Epoch 800, Loss: 0.1343\n"
     ]
    },
    {
     "name": "stderr",
     "output_type": "stream",
     "text": [
      " 81%|████████  | 811/1000 [3:45:20<52:19, 16.61s/it]"
     ]
    },
    {
     "name": "stdout",
     "output_type": "stream",
     "text": [
      "Epoch 810, Loss: 0.1370\n"
     ]
    },
    {
     "name": "stderr",
     "output_type": "stream",
     "text": [
      " 82%|████████▏ | 821/1000 [3:48:05<49:19, 16.54s/it]"
     ]
    },
    {
     "name": "stdout",
     "output_type": "stream",
     "text": [
      "Epoch 820, Loss: 0.1361\n"
     ]
    },
    {
     "name": "stderr",
     "output_type": "stream",
     "text": [
      " 83%|████████▎ | 831/1000 [3:50:48<45:28, 16.14s/it]"
     ]
    },
    {
     "name": "stdout",
     "output_type": "stream",
     "text": [
      "Epoch 830, Loss: 0.1347\n"
     ]
    },
    {
     "name": "stderr",
     "output_type": "stream",
     "text": [
      " 84%|████████▍ | 841/1000 [3:53:33<44:23, 16.75s/it]"
     ]
    },
    {
     "name": "stdout",
     "output_type": "stream",
     "text": [
      "Epoch 840, Loss: 0.1345\n"
     ]
    },
    {
     "name": "stderr",
     "output_type": "stream",
     "text": [
      " 85%|████████▌ | 851/1000 [3:56:21<41:39, 16.78s/it]"
     ]
    },
    {
     "name": "stdout",
     "output_type": "stream",
     "text": [
      "Epoch 850, Loss: 0.1333\n"
     ]
    },
    {
     "name": "stderr",
     "output_type": "stream",
     "text": [
      " 86%|████████▌ | 861/1000 [3:59:03<37:57, 16.38s/it]"
     ]
    },
    {
     "name": "stdout",
     "output_type": "stream",
     "text": [
      "Epoch 860, Loss: 0.1347\n"
     ]
    },
    {
     "name": "stderr",
     "output_type": "stream",
     "text": [
      " 87%|████████▋ | 871/1000 [4:01:44<34:44, 16.16s/it]"
     ]
    },
    {
     "name": "stdout",
     "output_type": "stream",
     "text": [
      "Epoch 870, Loss: 0.1348\n"
     ]
    },
    {
     "name": "stderr",
     "output_type": "stream",
     "text": [
      " 88%|████████▊ | 881/1000 [4:04:27<32:33, 16.42s/it]"
     ]
    },
    {
     "name": "stdout",
     "output_type": "stream",
     "text": [
      "Epoch 880, Loss: 0.1333\n"
     ]
    },
    {
     "name": "stderr",
     "output_type": "stream",
     "text": [
      " 89%|████████▉ | 891/1000 [4:07:12<30:03, 16.55s/it]"
     ]
    },
    {
     "name": "stdout",
     "output_type": "stream",
     "text": [
      "Epoch 890, Loss: 0.1327\n"
     ]
    },
    {
     "name": "stderr",
     "output_type": "stream",
     "text": [
      " 90%|█████████ | 901/1000 [4:09:57<26:53, 16.30s/it]"
     ]
    },
    {
     "name": "stdout",
     "output_type": "stream",
     "text": [
      "Epoch 900, Loss: 0.1348\n"
     ]
    },
    {
     "name": "stderr",
     "output_type": "stream",
     "text": [
      " 91%|█████████ | 911/1000 [4:12:41<24:21, 16.42s/it]"
     ]
    },
    {
     "name": "stdout",
     "output_type": "stream",
     "text": [
      "Epoch 910, Loss: 0.1326\n"
     ]
    },
    {
     "name": "stderr",
     "output_type": "stream",
     "text": [
      " 92%|█████████▏| 921/1000 [4:15:26<21:40, 16.46s/it]"
     ]
    },
    {
     "name": "stdout",
     "output_type": "stream",
     "text": [
      "Epoch 920, Loss: 0.1328\n"
     ]
    },
    {
     "name": "stderr",
     "output_type": "stream",
     "text": [
      " 93%|█████████▎| 931/1000 [4:18:10<18:56, 16.47s/it]"
     ]
    },
    {
     "name": "stdout",
     "output_type": "stream",
     "text": [
      "Epoch 930, Loss: 0.1358\n"
     ]
    },
    {
     "name": "stderr",
     "output_type": "stream",
     "text": [
      " 94%|█████████▍| 941/1000 [4:20:56<16:14, 16.52s/it]"
     ]
    },
    {
     "name": "stdout",
     "output_type": "stream",
     "text": [
      "Epoch 940, Loss: 0.1322\n"
     ]
    },
    {
     "name": "stderr",
     "output_type": "stream",
     "text": [
      " 95%|█████████▌| 951/1000 [4:23:38<13:24, 16.41s/it]"
     ]
    },
    {
     "name": "stdout",
     "output_type": "stream",
     "text": [
      "Epoch 950, Loss: 0.1333\n"
     ]
    },
    {
     "name": "stderr",
     "output_type": "stream",
     "text": [
      " 96%|█████████▌| 961/1000 [4:26:23<10:41, 16.45s/it]"
     ]
    },
    {
     "name": "stdout",
     "output_type": "stream",
     "text": [
      "Epoch 960, Loss: 0.1341\n"
     ]
    },
    {
     "name": "stderr",
     "output_type": "stream",
     "text": [
      " 97%|█████████▋| 971/1000 [4:29:05<07:51, 16.26s/it]"
     ]
    },
    {
     "name": "stdout",
     "output_type": "stream",
     "text": [
      "Epoch 970, Loss: 0.1305\n"
     ]
    },
    {
     "name": "stderr",
     "output_type": "stream",
     "text": [
      " 98%|█████████▊| 981/1000 [4:31:49<05:13, 16.51s/it]"
     ]
    },
    {
     "name": "stdout",
     "output_type": "stream",
     "text": [
      "Epoch 980, Loss: 0.1327\n"
     ]
    },
    {
     "name": "stderr",
     "output_type": "stream",
     "text": [
      " 99%|█████████▉| 991/1000 [4:34:32<02:24, 16.11s/it]"
     ]
    },
    {
     "name": "stdout",
     "output_type": "stream",
     "text": [
      "Epoch 990, Loss: 0.1319\n"
     ]
    },
    {
     "name": "stderr",
     "output_type": "stream",
     "text": [
      "100%|██████████| 1000/1000 [4:36:56<00:00, 16.62s/it]\n"
     ]
    },
    {
     "name": "stdout",
     "output_type": "stream",
     "text": [
      "\n",
      " Test Set Accuracy: 61.59%\n",
      "Save as deep_lstm_model.pt\n"
     ]
    }
   ],
   "source": [
    "###Deep LSTM model\n",
    "\n",
    "# Use GPU\n",
    "device = torch.device(\"cuda\" if torch.cuda.is_available() else \"cpu\")\n",
    "print(\"\\n Utilization equipment：\", device)\n",
    "\n",
    "# Deep LSTM model\n",
    "class DeepLSTMModel(nn.Module):\n",
    "    def __init__(self, input_size, hidden_size, num_layers=2):\n",
    "        super(DeepLSTMModel, self).__init__()\n",
    "        self.lstm = nn.LSTM(input_size=input_size, hidden_size=hidden_size, num_layers=num_layers, batch_first=True)\n",
    "        self.fc = nn.Linear(hidden_size, 1)\n",
    "\n",
    "    def forward(self, x):\n",
    "        out, _ = self.lstm(x)\n",
    "        out = out[:, -1, :]\n",
    "        return self.fc(out)\n",
    "\n",
    "# Models and Optimizers\n",
    "model = DeepLSTMModel(input_size, hidden_size).to(device)\n",
    "criterion = nn.BCEWithLogitsLoss()\n",
    "optimizer = optim.Adam(model.parameters(), lr=lr)\n",
    "\n",
    "train_loader = DataLoader(TensorDataset(x_train_rnn, y_train), batch_size=batch_size, shuffle=True)\n",
    "\n",
    "# Training model\n",
    "for epoch in trange(epochs):\n",
    "    model.train()\n",
    "    running_loss = 0.0\n",
    "\n",
    "    for batch_x, batch_y in train_loader:\n",
    "        batch_x = batch_x.to(device)\n",
    "        batch_y = batch_y.to(device)\n",
    "\n",
    "        logits = model(batch_x).squeeze()\n",
    "        loss = criterion(logits, batch_y.squeeze())\n",
    "\n",
    "        optimizer.zero_grad()\n",
    "        loss.backward()\n",
    "        optimizer.step()\n",
    "\n",
    "        running_loss += loss.item()\n",
    "\n",
    "    if epoch % 10 == 0:\n",
    "        avg_loss = running_loss / len(train_loader)\n",
    "        print(f\"Epoch {epoch}, Loss: {avg_loss:.4f}\")\n",
    "\n",
    "# Model Evaluation\n",
    "model.eval()\n",
    "with torch.no_grad():\n",
    "    x_test_rnn = x_test_rnn.to(device)\n",
    "    y_test = y_test.to(device)\n",
    "\n",
    "    y_pred = model(x_test_rnn).squeeze()\n",
    "    y_prob = torch.sigmoid(y_pred)\n",
    "    y_label = (y_prob > 0.5).float()\n",
    "    acc = (y_label == y_test.squeeze()).sum().item() / len(y_test)\n",
    "    print(f\"\\n Test Set Accuracy: {acc:.2%}\")\n",
    "\n",
    "#Save only the parameters of the model\n",
    "torch.save(model.state_dict(), \"deep_lstm_model.pt\")\n",
    "#Save the entire model (including structure + weights)\n",
    "torch.save(model, \"deep_lstm_full_model.pth\")\n",
    "print(\"Save as deep_lstm_model.pt\")"
   ]
  },
  {
   "cell_type": "code",
   "execution_count": null,
   "id": "bc15ab97-fa6a-4084-b616-9a9a7721cf18",
   "metadata": {},
   "outputs": [
    {
     "name": "stderr",
     "output_type": "stream",
     "text": [
      "[I 2025-04-02 10:33:29,795] A new study created in memory with name: no-name-58c5b0eb-f796-46c3-b504-20d3fabe43b9\n",
      "[I 2025-04-02 10:35:46,975] Trial 0 finished with value: 0.590151031984042 and parameters: {'hidden_size': 64, 'lr': 0.00013309139102279322, 'num_layers': 1, 'batch_size': 128}. Best is trial 0 with value: 0.590151031984042.\n",
      "[I 2025-04-02 10:37:01,983] Trial 1 finished with value: 0.5996634687148034 and parameters: {'hidden_size': 32, 'lr': 0.00179119530211762, 'num_layers': 1, 'batch_size': 256}. Best is trial 1 with value: 0.5996634687148034.\n",
      "[I 2025-04-02 10:39:50,455] Trial 2 finished with value: 0.588658352896476 and parameters: {'hidden_size': 128, 'lr': 0.008073971535260358, 'num_layers': 2, 'batch_size': 128}. Best is trial 1 with value: 0.5996634687148034.\n",
      "[I 2025-04-02 10:45:19,404] Trial 3 finished with value: 0.5769204673442525 and parameters: {'hidden_size': 128, 'lr': 0.00544819518574581, 'num_layers': 3, 'batch_size': 64}. Best is trial 1 with value: 0.5996634687148034.\n",
      "[I 2025-04-02 10:49:24,610] Trial 4 finished with value: 0.6667118993662898 and parameters: {'hidden_size': 128, 'lr': 0.0011564282148272783, 'num_layers': 1, 'batch_size': 64}. Best is trial 4 with value: 0.6667118993662898.\n",
      "[I 2025-04-02 10:54:52,010] Trial 5 finished with value: 0.6199096250661528 and parameters: {'hidden_size': 128, 'lr': 0.00010832780194550225, 'num_layers': 3, 'batch_size': 64}. Best is trial 4 with value: 0.6667118993662898.\n",
      "[I 2025-04-02 10:56:07,833] Trial 6 finished with value: 0.5813985046069504 and parameters: {'hidden_size': 32, 'lr': 0.0002629153697695614, 'num_layers': 1, 'batch_size': 256}. Best is trial 4 with value: 0.6667118993662898.\n",
      "[I 2025-04-02 11:01:39,011] Trial 7 finished with value: 0.6054713473464237 and parameters: {'hidden_size': 64, 'lr': 0.00015385749910298415, 'num_layers': 3, 'batch_size': 64}. Best is trial 4 with value: 0.6667118993662898.\n",
      "[I 2025-04-02 11:04:27,186] Trial 8 finished with value: 0.5992699442280813 and parameters: {'hidden_size': 64, 'lr': 0.00014568513578064012, 'num_layers': 2, 'batch_size': 128}. Best is trial 4 with value: 0.6667118993662898.\n",
      "[I 2025-04-02 11:07:38,665] Trial 9 finished with value: 0.5826062176868902 and parameters: {'hidden_size': 32, 'lr': 0.0002015834031584217, 'num_layers': 3, 'batch_size': 128}. Best is trial 4 with value: 0.6667118993662898.\n",
      "[I 2025-04-02 11:12:01,992] Trial 10 finished with value: 0.7035810728291697 and parameters: {'hidden_size': 256, 'lr': 0.0007694788515544902, 'num_layers': 1, 'batch_size': 64}. Best is trial 10 with value: 0.7035810728291697.\n",
      "[I 2025-04-02 11:16:26,608] Trial 11 finished with value: 0.6992387336653414 and parameters: {'hidden_size': 256, 'lr': 0.000855946121877486, 'num_layers': 1, 'batch_size': 64}. Best is trial 10 with value: 0.7035810728291697.\n",
      "[I 2025-04-02 11:21:53,936] Trial 12 finished with value: 0.7035267935896218 and parameters: {'hidden_size': 256, 'lr': 0.0005116245269369563, 'num_layers': 2, 'batch_size': 64}. Best is trial 10 with value: 0.7035810728291697.\n",
      "[I 2025-04-02 11:27:19,606] Trial 13 finished with value: 0.7005007259848289 and parameters: {'hidden_size': 256, 'lr': 0.0004046376182402155, 'num_layers': 2, 'batch_size': 64}. Best is trial 10 with value: 0.7035810728291697.\n",
      "[I 2025-04-02 11:32:53,008] Trial 14 finished with value: 0.7024819182283256 and parameters: {'hidden_size': 256, 'lr': 0.0005384088330851393, 'num_layers': 2, 'batch_size': 64}. Best is trial 10 with value: 0.7035810728291697.\n",
      "[I 2025-04-02 11:38:25,803] Trial 15 finished with value: 0.6784904943481742 and parameters: {'hidden_size': 256, 'lr': 0.002507425479319522, 'num_layers': 2, 'batch_size': 64}. Best is trial 10 with value: 0.7035810728291697.\n",
      "[I 2025-04-02 11:40:17,122] Trial 16 finished with value: 0.7002700392167506 and parameters: {'hidden_size': 256, 'lr': 0.0005685444233727111, 'num_layers': 2, 'batch_size': 256}. Best is trial 10 with value: 0.7035810728291697.\n",
      "[I 2025-04-02 11:44:41,201] Trial 17 finished with value: 0.696755458456027 and parameters: {'hidden_size': 256, 'lr': 0.00031427131099390416, 'num_layers': 1, 'batch_size': 64}. Best is trial 10 with value: 0.7035810728291697.\n",
      "[I 2025-04-02 11:49:01,731] Trial 18 finished with value: 0.6721941025606232 and parameters: {'hidden_size': 256, 'lr': 0.0028259313454509377, 'num_layers': 1, 'batch_size': 64}. Best is trial 10 with value: 0.7035810728291697.\n",
      "[I 2025-04-02 11:50:46,321] Trial 19 finished with value: 0.7005414354144899 and parameters: {'hidden_size': 256, 'lr': 0.001017738666088982, 'num_layers': 2, 'batch_size': 256}. Best is trial 10 with value: 0.7035810728291697.\n"
     ]
    },
    {
     "name": "stdout",
     "output_type": "stream",
     "text": [
      "\n",
      " Optimal hyperparameters：\n",
      "{'hidden_size': 256, 'lr': 0.0007694788515544902, 'num_layers': 1, 'batch_size': 64}\n",
      "Best validation accuracy：70.36%\n"
     ]
    }
   ],
   "source": [
    "# Definition of hyperparametric optimization function\n",
    "x_train = torch.load(\"x_train.pt\")\n",
    "x_test = torch.load(\"x_test.pt\")\n",
    "y_train = torch.load(\"y_train.pt\")\n",
    "y_test = torch.load(\"y_test.pt\")\n",
    "\n",
    "x_train_rnn = x_train.permute(0, 2, 1)\n",
    "x_test_rnn = x_test.permute(0, 2, 1)\n",
    "\n",
    "input_size = x_train_rnn.shape[2]\n",
    "device = torch.device(\"cuda\" if torch.cuda.is_available() else \"cpu\")\n",
    "\n",
    "def objective(trial):\n",
    "    hidden_size = trial.suggest_categorical(\"hidden_size\", [32, 64, 128, 256])\n",
    "    lr = trial.suggest_loguniform(\"lr\", 1e-4, 1e-2)\n",
    "    num_layers = trial.suggest_int(\"num_layers\", 1, 3)\n",
    "    batch_size = trial.suggest_categorical(\"batch_size\", [64, 128, 256])\n",
    "\n",
    "    # Define the model\n",
    "    class DeepLSTMModel(nn.Module):\n",
    "        def __init__(self, input_size, hidden_size, num_layers):\n",
    "            super(DeepLSTMModel, self).__init__()\n",
    "            self.lstm = nn.LSTM(input_size=input_size, hidden_size=hidden_size, num_layers=num_layers, batch_first=True)\n",
    "            self.fc = nn.Linear(hidden_size, 1)\n",
    "\n",
    "        def forward(self, x):\n",
    "            out, _ = self.lstm(x)\n",
    "            out = out[:, -1, :]\n",
    "            return self.fc(out)\n",
    "\n",
    "    model = DeepLSTMModel(input_size, hidden_size, num_layers).to(device)\n",
    "    criterion = nn.BCEWithLogitsLoss()\n",
    "    optimizer = optim.Adam(model.parameters(), lr=lr)\n",
    "    train_loader = DataLoader(TensorDataset(x_train_rnn, y_train), batch_size=batch_size, shuffle=True)\n",
    "\n",
    "    for epoch in range(10):  \n",
    "        model.train()\n",
    "        for batch_x, batch_y in train_loader:\n",
    "            batch_x = batch_x.to(device)\n",
    "            batch_y = batch_y.to(device)\n",
    "            logits = model(batch_x).squeeze()\n",
    "            loss = criterion(logits, batch_y.squeeze())\n",
    "\n",
    "            optimizer.zero_grad()\n",
    "            loss.backward()\n",
    "            optimizer.step()\n",
    "\n",
    "    # Assessment accuracy\n",
    "    model.eval()\n",
    "    with torch.no_grad():\n",
    "        x_test_rnn_eval = x_test_rnn.to(device)\n",
    "        y_test_eval = y_test.to(device)\n",
    "        y_pred = model(x_test_rnn_eval).squeeze()\n",
    "        y_prob = torch.sigmoid(y_pred)\n",
    "        y_label = (y_prob > 0.5).float()\n",
    "        acc = (y_label == y_test_eval.squeeze()).sum().item() / len(y_test_eval)\n",
    "    return acc\n",
    "\n",
    "\n",
    "# Data loading\n",
    "x_train = torch.load(\"x_train.pt\")\n",
    "x_test = torch.load(\"x_test.pt\")\n",
    "y_train = torch.load(\"y_train.pt\")\n",
    "y_test = torch.load(\"y_test.pt\")\n",
    "\n",
    "x_train_rnn = x_train.permute(0, 2, 1)\n",
    "x_test_rnn = x_test.permute(0, 2, 1)\n",
    "\n",
    "input_size = x_train_rnn.shape[2]\n",
    "batch_size = 128\n",
    "device = torch.device(\"cuda\" if torch.cuda.is_available() else \"cpu\")\n",
    "\n",
    "# Start Optuna Hyper-Reference Search\n",
    "study = optuna.create_study(direction=\"maximize\")\n",
    "study.optimize(objective, n_trials=20)\n",
    "\n",
    "print(\"\\n Optimal hyperparameters：\")\n",
    "print(study.best_params)\n",
    "print(f\"Best validation accuracy：{study.best_value:.2%}\")"
   ]
  },
  {
   "cell_type": "code",
   "execution_count": null,
   "id": "a10cb958-18eb-48d6-b441-b4f85305fcb2",
   "metadata": {},
   "outputs": [
    {
     "name": "stdout",
     "output_type": "stream",
     "text": [
      "Epoch 0, Loss: 0.6845\n",
      "Epoch 10, Loss: 0.1790\n",
      "Epoch 20, Loss: 0.0746\n",
      "Epoch 30, Loss: 0.0588\n",
      "Epoch 40, Loss: 0.0526\n",
      "Epoch 50, Loss: 0.0488\n",
      "Epoch 60, Loss: 0.0458\n",
      "Epoch 70, Loss: 0.0447\n",
      "Epoch 80, Loss: 0.0428\n",
      "Epoch 90, Loss: 0.0412\n",
      "Epoch 100, Loss: 0.0398\n",
      "Epoch 110, Loss: 0.0393\n",
      "Epoch 120, Loss: 0.0389\n",
      "Epoch 130, Loss: 0.0390\n",
      "Epoch 140, Loss: 0.0368\n",
      "Epoch 150, Loss: 0.0379\n",
      "Epoch 160, Loss: 0.0379\n",
      "Epoch 170, Loss: 0.0364\n",
      "Epoch 180, Loss: 0.0357\n",
      "Epoch 190, Loss: 0.0358\n",
      "Epoch 200, Loss: 0.0360\n",
      "Epoch 210, Loss: 0.0363\n",
      "Epoch 220, Loss: 0.0357\n",
      "Epoch 230, Loss: 0.0356\n",
      "Epoch 240, Loss: 0.0345\n",
      "Epoch 250, Loss: 0.0349\n",
      "Epoch 260, Loss: 0.0352\n",
      "Epoch 270, Loss: 0.0355\n",
      "Epoch 280, Loss: 0.0355\n",
      "Epoch 290, Loss: 0.0344\n",
      "Epoch 300, Loss: 0.0348\n",
      "Epoch 310, Loss: 0.0352\n",
      "Epoch 320, Loss: 0.0343\n",
      "Epoch 330, Loss: 0.0358\n",
      "Epoch 340, Loss: 0.0348\n",
      "Epoch 350, Loss: 0.0344\n",
      "Epoch 360, Loss: 0.0338\n",
      "Epoch 370, Loss: 0.0349\n",
      "Epoch 380, Loss: 0.0338\n",
      "Epoch 390, Loss: 0.0340\n",
      "Epoch 400, Loss: 0.0343\n",
      "Epoch 410, Loss: 0.0335\n",
      "Epoch 420, Loss: 0.0334\n",
      "Epoch 430, Loss: 0.0351\n",
      "Epoch 440, Loss: 0.0338\n",
      "Epoch 450, Loss: 0.0323\n",
      "Epoch 460, Loss: 0.0349\n",
      "Epoch 470, Loss: 0.0333\n",
      "Epoch 480, Loss: 0.0345\n",
      "Epoch 490, Loss: 0.0338\n",
      "\n",
      " Test set accuracy: 68.87%\n",
     ]
    }
   ],
   "source": [
    "best_params = study.best_params\n",
    "model = DeepLSTMModel(input_size, best_params['hidden_size'], best_params['num_layers']).to(device)\n",
    "optimizer = optim.Adam(model.parameters(), lr=best_params['lr'])\n",
    "criterion = nn.BCEWithLogitsLoss()\n",
    "batch_size = best_params['batch_size']\n",
    "train_loader = DataLoader(TensorDataset(x_train_rnn, y_train), batch_size=batch_size, shuffle=True)\n",
    "\n",
    "for epoch in range(500):\n",
    "    model.train()\n",
    "    running_loss = 0.0\n",
    "    for batch_x, batch_y in train_loader:\n",
    "        batch_x = batch_x.to(device)\n",
    "        batch_y = batch_y.to(device)\n",
    "        logits = model(batch_x).squeeze()\n",
    "        loss = criterion(logits, batch_y.squeeze())\n",
    "        optimizer.zero_grad()\n",
    "        loss.backward()\n",
    "        optimizer.step()\n",
    "        running_loss += loss.item()\n",
    "    if epoch % 10 == 0:\n",
    "        avg_loss = running_loss / len(train_loader)\n",
    "        print(f\"Epoch {epoch}, Loss: {avg_loss:.4f}\")\n",
    "        \n",
    "model.eval()\n",
    "with torch.no_grad():\n",
    "    y_pred = model(x_test_rnn.to(device)).squeeze()\n",
    "    y_prob = torch.sigmoid(y_pred)\n",
    "    y_label = (y_prob > 0.5).float()\n",
    "    acc = (y_label == y_test.to(device).squeeze()).sum().item() / len(y_test)\n",
    "    print(f\"\\n Test set accuracy: {acc:.2%}\")\n",
    "\n",
    "# Saving Models\n",
    "torch.save(model.state_dict(), \"best_lstm_model.pt\")\n",
    "\n"
   ]
  },
  {
   "cell_type": "code",
   "execution_count": null,
   "id": "9aa47658-1f0b-4ab4-97f1-096d166c9583",
   "metadata": {},
   "outputs": [],
   "source": []
  }
 ],
 "metadata": {
  "kernelspec": {
   "display_name": "base",
   "language": "python",
   "name": "python3"
  },
  "language_info": {
   "codemirror_mode": {
    "name": "ipython",
    "version": 3
   },
   "file_extension": ".py",
   "mimetype": "text/x-python",
   "name": "python",
   "nbconvert_exporter": "python",
   "pygments_lexer": "ipython3",
   "version": "3.12.7"
  }
 },
 "nbformat": 4,
 "nbformat_minor": 5
}
